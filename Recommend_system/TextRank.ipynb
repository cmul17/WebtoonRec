{
 "cells": [
  {
   "cell_type": "code",
   "execution_count": 146,
   "id": "67410edc",
   "metadata": {},
   "outputs": [],
   "source": [
    "from konlpy.tag import Kkma\n",
    "from konlpy.tag import Twitter\n",
    "from sklearn.feature_extraction.text import TfidfVectorizer\n",
    "from sklearn.feature_extraction.text import CountVectorizer\n",
    "from sklearn.preprocessing import normalize\n",
    "import numpy as np\n"
   ]
  },
  {
   "cell_type": "code",
   "execution_count": 147,
   "id": "3c01a61f",
   "metadata": {},
   "outputs": [],
   "source": [
    "#꼬꼬마분석기\n",
    "kkma = Kkma() \n",
    "\n",
    "#text를 입력받아 Kkma.sentences()를 이용해 문장단위로 나눈 뒤 sentences로 리턴\n",
    "def text2sentences(text):  \n",
    "    sentences = kkma.sentences(text)  \n",
    "    #text일 때 문장별로 리스트 만듦\n",
    "    return sentences"
   ]
  },
  {
   "cell_type": "code",
   "execution_count": 148,
   "id": "81cee389",
   "metadata": {},
   "outputs": [],
   "source": [
    "#예시 줄거리\n",
    "desc='''아이스댄싱이라는 흔하지 않은 종목에서 완벽한 파트너를 만나는 일은 기적과 같은 일. 파트너 운이 없지만 꾸준히 아이스댄싱에 대한 남다른 애정을 가지고 있는 홍주와 과거 부상에서 다시 아이스댄싱을 시작하는 해성이의 기적같은 만남이 빙판을 금빛으로 물들인다.'''"
   ]
  },
  {
   "cell_type": "code",
   "execution_count": 149,
   "id": "7d33f4d9",
   "metadata": {},
   "outputs": [
    {
     "name": "stdout",
     "output_type": "stream",
     "text": [
      "['아이스댄싱이라는 흔하지 않은 종목에서 완벽한 파트너를 만나는 일은 기적과 같은 일. 파트너 운이 없지만 꾸준히 아이스댄싱에 대한 남다른 애정을 가지고 있는 홍 주와 과거 부상에서 다시 아이스댄싱을 시작하는 해성 이의 기적 같은 만남이 빙판을 금빛으로 물들인다.']\n"
     ]
    }
   ],
   "source": [
    "sentences =text2sentences(desc)\n",
    "print(sentences)"
   ]
  },
  {
   "cell_type": "code",
   "execution_count": 150,
   "id": "dbd7fc96",
   "metadata": {},
   "outputs": [
    {
     "name": "stderr",
     "output_type": "stream",
     "text": [
      "<>:10: SyntaxWarning: \"is not\" with a literal. Did you mean \"!=\"?\n",
      "<>:10: SyntaxWarning: \"is not\" with a literal. Did you mean \"!=\"?\n",
      "C:\\ProgramData\\Anaconda3\\lib\\site-packages\\konlpy\\tag\\_okt.py:17: UserWarning: \"Twitter\" has changed to \"Okt\" since KoNLPy v0.4.5.\n",
      "  warn('\"Twitter\" has changed to \"Okt\" since KoNLPy v0.4.5.')\n",
      "C:\\Users\\user\\AppData\\Local\\Temp/ipykernel_36880/1320837504.py:10: SyntaxWarning: \"is not\" with a literal. Did you mean \"!=\"?\n",
      "  if sentence is not '':\n"
     ]
    }
   ],
   "source": [
    "twitter = Twitter()\n",
    "\n",
    "#불용어제거 수정하기\n",
    "stopwords = ['네이버','네이버웹툰', '최강자전', '대표작', '신작',\n",
    "             '그', '것', '누구',' 자신',\n",
    "            '를', '을', '나이', '매일']\n",
    "def get_nouns(sentences):\n",
    "    nouns = []\n",
    "    for sentence in sentences:\n",
    "        if sentence is not '':\n",
    "            nouns.append(' '.join([noun for noun in twitter.nouns(str(sentence))\n",
    "                                  if noun not in stopwords and len(noun) >= 1]))\n",
    "    return nouns"
   ]
  },
  {
   "cell_type": "code",
   "execution_count": null,
   "id": "d0d443f1",
   "metadata": {},
   "outputs": [],
   "source": []
  },
  {
   "cell_type": "code",
   "execution_count": 151,
   "id": "78be2132",
   "metadata": {},
   "outputs": [],
   "source": [
    "nouns = get_nouns(sentences)"
   ]
  },
  {
   "cell_type": "code",
   "execution_count": 152,
   "id": "2962a042",
   "metadata": {},
   "outputs": [
    {
     "name": "stdout",
     "output_type": "stream",
     "text": [
      "아이스댄싱이라는 흔하지 않은 종목에서 완벽한 파트너를 만나는 일은 기적과 같은 일. 파트너 운이 없지만 꾸준히 아이스댄싱에 대한 남다른 애정을 가지고 있는 홍 주와 과거 부상에서 다시 아이스댄싱을 시작하는 해성 이의 기적 같은 만남이 빙판을 금빛으로 물들인다.\n",
      "아이스댄싱 종목 파트너 일 기적 일 파트너 운 아이스댄싱 대한 애정 가지 홍 주 과거 부상 다시 아이스댄싱 시작 해성 이의 기적 만남 빙판 금빛\n"
     ]
    }
   ],
   "source": [
    "\n",
    "nouns = get_nouns(sentences)\n",
    "print(sentences[0])\n",
    "print(nouns[0])\n"
   ]
  },
  {
   "cell_type": "code",
   "execution_count": 153,
   "id": "2d6cb3fa",
   "metadata": {},
   "outputs": [],
   "source": [
    "tfidf = TfidfVectorizer()\n",
    "cnt_vec = CountVectorizer()\n",
    "graph_sentence = []"
   ]
  },
  {
   "cell_type": "code",
   "execution_count": 154,
   "id": "cd38c75f",
   "metadata": {},
   "outputs": [
    {
     "name": "stdout",
     "output_type": "stream",
     "text": [
      "{10: '아이스댄싱', 13: '종목', 14: '파트너', 3: '기적', 5: '대한', 11: '애정', 0: '가지', 1: '과거', 7: '부상', 4: '다시', 9: '시작', 15: '해성', 12: '이의', 6: '만남', 8: '빙판', 2: '금빛'}\n"
     ]
    }
   ],
   "source": [
    "def build_words_graph(sentence):\n",
    "    cnt_vec_mat = normalize(cnt_vec.fit_transform(sentence).toarray().astype(float), axis=0)\n",
    "    vocab = cnt_vec.vocabulary_\n",
    "    return np.dot(cnt_vec_mat.T, cnt_vec_mat), {vocab[word] : word for word in vocab}\n",
    "    \n",
    "words_graph, idx2word = build_words_graph(nouns)\n",
    "print(idx2word)"
   ]
  },
  {
   "cell_type": "code",
   "execution_count": 155,
   "id": "90039b4d",
   "metadata": {},
   "outputs": [],
   "source": [
    "def get_ranks(graph, d=0.85): \n",
    "    A = graph\n",
    "    matrix_size = A.shape[0]\n",
    "    for id in range(matrix_size):\n",
    "        A[id, id] = 0 \n",
    "        link_sum = np.sum(A[:,id]) \n",
    "        if link_sum != 0:\n",
    "            A[:, id] /= link_sum\n",
    "        A[:, id] *= -d\n",
    "        A[id, id] = 1\n",
    "\n",
    "    B = (1-d) * np.ones((matrix_size, 1))\n",
    "    ranks = np.linalg.solve(A, B) \n",
    "    return {idx: r[0] for idx, r in enumerate(ranks)}"
   ]
  },
  {
   "cell_type": "code",
   "execution_count": 156,
   "id": "85751111",
   "metadata": {},
   "outputs": [
    {
     "name": "stdout",
     "output_type": "stream",
     "text": [
      "{0: 1.0000000000000002, 1: 1.0000000000000004, 2: 1.0, 3: 1.0, 4: 1.0000000000000007, 5: 1.0000000000000007, 6: 1.0000000000000002, 7: 1.0000000000000002, 8: 1.0000000000000002, 9: 1.0000000000000004, 10: 1.0000000000000002, 11: 1.0000000000000002, 12: 1.0000000000000002, 13: 1.0000000000000002, 14: 1.0000000000000002, 15: 1.0000000000000002}\n"
     ]
    }
   ],
   "source": [
    "word_rank_idx = get_ranks(words_graph)\n",
    "print(word_rank_idx)"
   ]
  },
  {
   "cell_type": "code",
   "execution_count": 157,
   "id": "3159eee6",
   "metadata": {},
   "outputs": [],
   "source": [
    "sorted_word_rank_idx = sorted(word_rank_idx, key=lambda k: word_rank_idx[k], reverse=True)"
   ]
  },
  {
   "cell_type": "code",
   "execution_count": 158,
   "id": "2d9412c5",
   "metadata": {},
   "outputs": [],
   "source": [
    "# 키워드 수 조정\n",
    "def keywords(word_num=10):\n",
    "\n",
    "    keywords = []\n",
    "    index=[]\n",
    "    for idx in sorted_word_rank_idx[:word_num]:\n",
    "        index.append(idx)\n",
    "\n",
    "    #index.sort()\n",
    "    for idx in index:\n",
    "        keywords.append(idx2word[idx])\n",
    "\n",
    "    print(keywords)"
   ]
  },
  {
   "cell_type": "code",
   "execution_count": 159,
   "id": "32437f68",
   "metadata": {},
   "outputs": [
    {
     "name": "stdout",
     "output_type": "stream",
     "text": [
      "['다시', '대한', '과거', '시작', '가지', '만남', '부상', '빙판', '아이스댄싱', '애정']\n"
     ]
    }
   ],
   "source": [
    "keywords()"
   ]
  }
 ],
 "metadata": {
  "kernelspec": {
   "display_name": "Python 3 (ipykernel)",
   "language": "python",
   "name": "python3"
  },
  "language_info": {
   "codemirror_mode": {
    "name": "ipython",
    "version": 3
   },
   "file_extension": ".py",
   "mimetype": "text/x-python",
   "name": "python",
   "nbconvert_exporter": "python",
   "pygments_lexer": "ipython3",
   "version": "3.9.7"
  }
 },
 "nbformat": 4,
 "nbformat_minor": 5
}
