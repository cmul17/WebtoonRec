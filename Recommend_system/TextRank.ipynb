{
 "cells": [
  {
   "cell_type": "code",
   "execution_count": 1,
   "id": "67410edc",
   "metadata": {},
   "outputs": [],
   "source": [
    "from konlpy.tag import Kkma\n",
    "from konlpy.tag import Twitter\n",
    "from sklearn.feature_extraction.text import TfidfVectorizer\n",
    "from sklearn.feature_extraction.text import CountVectorizer\n",
    "from sklearn.preprocessing import normalize\n",
    "import numpy as np\n",
    "import pandas as pd"
   ]
  },
  {
   "cell_type": "code",
   "execution_count": 2,
   "id": "3c01a61f",
   "metadata": {},
   "outputs": [],
   "source": [
    "#꼬꼬마분석기\n",
    "kkma = Kkma() \n",
    "\n",
    "#text를 입력받아 Kkma.sentences()를 이용해 문장단위로 나눈 뒤 sentences로 리턴\n",
    "def text2sentences(text):  \n",
    "    sentences = kkma.sentences(text)\n",
    "    for idx in range(0, len(sentences)):\n",
    "        if len(sentences[idx]) <= 10:\n",
    "            sentences[idx-1] += (' ' + sentences[idx])\n",
    "            sentences[idx] = ''\n",
    "\n",
    "\n",
    "    #text일 때 문장별로 리스트 만듦\n",
    "    return sentences"
   ]
  },
  {
   "cell_type": "code",
   "execution_count": 3,
   "id": "81cee389",
   "metadata": {},
   "outputs": [],
   "source": [
    "#예시 줄거리\n",
    "\n",
    "desc='''존재감 없이 살아온 20살 지원. 그는 자신의 생일날 삶을 마감하려 한다. \n",
    "하지만 우연히 만든 부캐로 인해 인생이 뒤바뀌고, 현실 ‘아싸’ 임지원은 부캐 ‘인싸’ 김시후로 살아가게 된다. \n",
    "점점 부캐의 삶에 빠져들수록 지원은 자신의 존재감을 잃어가고, 결국 부캐를 죽이기로 결심하는데... \n",
    "그는 부캐로 얻은 모든 것을 뒤로하고 다시 본인 자신으로 돌아갈 수 있을까.'''"
   ]
  },
  {
   "cell_type": "code",
   "execution_count": 4,
   "id": "7d33f4d9",
   "metadata": {},
   "outputs": [
    {
     "name": "stdout",
     "output_type": "stream",
     "text": [
      "['존재 감 없이 살아온 20살 지원. 그는 자신의 생일날 삶을 마감하려 한다.', '하지만 우연히 만든 부캐로 인해 인생이 뒤바뀌고, 현실 ‘ 아 싸’ 임지원은 부캐 ‘ 인 싸’ 김 시 후로 살아가게 된다.', '점점 부캐의 삶에 빠져들 수록 지원은 자신의 존재 감을 잃어 가고, 결국 부캐를 죽이기로 결심하는데... 그는 부캐로 얻은 모든 것을 뒤로하고 다시 본인 자신으로 돌아갈 수 있을까.']\n"
     ]
    }
   ],
   "source": [
    "sentences =text2sentences(desc)\n",
    "print(sentences)"
   ]
  },
  {
   "cell_type": "code",
   "execution_count": 5,
   "id": "dbd7fc96",
   "metadata": {},
   "outputs": [
    {
     "name": "stderr",
     "output_type": "stream",
     "text": [
      "<>:12: SyntaxWarning: \"is not\" with a literal. Did you mean \"!=\"?\n",
      "<>:12: SyntaxWarning: \"is not\" with a literal. Did you mean \"!=\"?\n",
      "C:\\ProgramData\\Anaconda3\\lib\\site-packages\\konlpy\\tag\\_okt.py:17: UserWarning: \"Twitter\" has changed to \"Okt\" since KoNLPy v0.4.5.\n",
      "  warn('\"Twitter\" has changed to \"Okt\" since KoNLPy v0.4.5.')\n",
      "C:\\Users\\user\\AppData\\Local\\Temp/ipykernel_79308/3759735710.py:12: SyntaxWarning: \"is not\" with a literal. Did you mean \"!=\"?\n",
      "  if sentence is not '':\n"
     ]
    }
   ],
   "source": [
    "twitter = Twitter()\n",
    "\n",
    "#불용어제거 수정하기\n",
    "with open('C:/Users/user/CodingWorkspace/stopwords.txt', 'r') as f:\n",
    "    list_file = f.readlines()\n",
    "stopwords = list_file[0].split(\",\")\n",
    "\n",
    "\n",
    "def get_nouns(sentences):\n",
    "    nouns = []\n",
    "    for sentence in sentences:\n",
    "        if sentence is not '':\n",
    "            nouns.append(' '.join([noun for noun in twitter.nouns(str(sentence))\n",
    "                                  if noun not in stopwords and len(noun) >1])) # 한글자 제거\n",
    "    return nouns"
   ]
  },
  {
   "cell_type": "code",
   "execution_count": 6,
   "id": "78be2132",
   "metadata": {},
   "outputs": [],
   "source": [
    "nouns = get_nouns(sentences)"
   ]
  },
  {
   "cell_type": "code",
   "execution_count": 20,
   "id": "2962a042",
   "metadata": {},
   "outputs": [
    {
     "name": "stdout",
     "output_type": "stream",
     "text": [
      "존재 감 없이 살아온 20살 지원. 그는 자신의 생일날 삶을 마감하려 한다.\n",
      "존재 지원 생일 마감\n"
     ]
    },
    {
     "data": {
      "text/plain": [
       "[('점점', 'Noun'),\n",
       " ('부캐', 'Noun'),\n",
       " ('수록', 'Noun'),\n",
       " ('지원', 'Noun'),\n",
       " ('존재', 'Noun'),\n",
       " ('부캐', 'Noun'),\n",
       " ('결심', 'Noun'),\n",
       " ('부캐', 'Noun'),\n",
       " ('뒤', 'Noun'),\n",
       " ('로', 'Josa'),\n",
       " ('본인', 'Noun')]"
      ]
     },
     "execution_count": 20,
     "metadata": {},
     "output_type": "execute_result"
    }
   ],
   "source": [
    "\n",
    "nouns = get_nouns(sentences)\n",
    "print(sentences[0])\n",
    "print(nouns[0])\n",
    "twitter.pos(nouns[2])\n"
   ]
  },
  {
   "cell_type": "code",
   "execution_count": 8,
   "id": "2d6cb3fa",
   "metadata": {},
   "outputs": [],
   "source": [
    "tfidf = TfidfVectorizer()\n",
    "cnt_vec = CountVectorizer()\n",
    "graph_sentence = []"
   ]
  },
  {
   "cell_type": "code",
   "execution_count": 9,
   "id": "cd38c75f",
   "metadata": {},
   "outputs": [
    {
     "name": "stdout",
     "output_type": "stream",
     "text": [
      "{10: '존재', 11: '지원', 5: '생일', 2: '마감', 4: '부캐', 7: '인생', 12: '현실', 8: '임지원', 9: '점점', 6: '수록', 0: '결심', 1: '뒤로', 3: '본인'}\n"
     ]
    }
   ],
   "source": [
    "def build_words_graph(sentence):\n",
    "    cnt_vec_mat = normalize(cnt_vec.fit_transform(sentence).toarray().astype(float), axis=0)\n",
    "    vocab = cnt_vec.vocabulary_\n",
    "    return np.dot(cnt_vec_mat.T, cnt_vec_mat), {vocab[word] : word for word in vocab}\n",
    "    \n",
    "words_graph, idx2word = build_words_graph(nouns)\n",
    "print(idx2word)"
   ]
  },
  {
   "cell_type": "code",
   "execution_count": 10,
   "id": "90039b4d",
   "metadata": {},
   "outputs": [],
   "source": [
    "def get_ranks(graph, d=0.85): \n",
    "    A = graph\n",
    "    matrix_size = A.shape[0]\n",
    "    for id in range(matrix_size):\n",
    "        A[id, id] = 0 \n",
    "        link_sum = np.sum(A[:,id]) \n",
    "        if link_sum != 0:\n",
    "            A[:, id] /= link_sum\n",
    "        A[:, id] *= -d\n",
    "        A[id, id] = 1\n",
    "\n",
    "    B = (1-d) * np.ones((matrix_size, 1))\n",
    "    ranks = np.linalg.solve(A, B) \n",
    "    return {idx: r[0] for idx, r in enumerate(ranks)}"
   ]
  },
  {
   "cell_type": "code",
   "execution_count": 11,
   "id": "85751111",
   "metadata": {},
   "outputs": [
    {
     "name": "stdout",
     "output_type": "stream",
     "text": [
      "{0: 1.145543085154743, 1: 1.145543085154743, 2: 0.5882267698975936, 3: 1.1455430851547428, 4: 1.3945015757484505, 5: 0.5882267698975936, 6: 1.1455430851547428, 7: 0.7290611339693928, 8: 0.7290611339693926, 9: 1.145543085154743, 10: 1.2570730283872327, 11: 1.2570730283872327, 12: 0.7290611339693926}\n"
     ]
    }
   ],
   "source": [
    "word_rank_idx = get_ranks(words_graph)\n",
    "print(word_rank_idx)"
   ]
  },
  {
   "cell_type": "code",
   "execution_count": 12,
   "id": "3159eee6",
   "metadata": {},
   "outputs": [],
   "source": [
    "sorted_word_rank_idx = sorted(word_rank_idx, key=lambda k: word_rank_idx[k], reverse=True)"
   ]
  },
  {
   "cell_type": "code",
   "execution_count": 13,
   "id": "2d9412c5",
   "metadata": {},
   "outputs": [],
   "source": [
    "# 키워드 수 조정\n",
    "def keywords(word_num=10):\n",
    "\n",
    "    keywords = []\n",
    "    index=[]\n",
    "    for idx in sorted_word_rank_idx[:word_num]:\n",
    "        index.append(idx)\n",
    "\n",
    "    #index.sort()\n",
    "    for idx in index:\n",
    "        keywords.append(idx2word[idx])\n",
    "    print(keywords)"
   ]
  },
  {
   "cell_type": "code",
   "execution_count": 14,
   "id": "32437f68",
   "metadata": {},
   "outputs": [
    {
     "name": "stdout",
     "output_type": "stream",
     "text": [
      "['부캐', '존재', '지원', '결심', '뒤로', '점점', '본인', '수록', '인생', '임지원']\n"
     ]
    }
   ],
   "source": [
    "keywords()"
   ]
  }
 ],
 "metadata": {
  "kernelspec": {
   "display_name": "Python 3 (ipykernel)",
   "language": "python",
   "name": "python3"
  },
  "language_info": {
   "codemirror_mode": {
    "name": "ipython",
    "version": 3
   },
   "file_extension": ".py",
   "mimetype": "text/x-python",
   "name": "python",
   "nbconvert_exporter": "python",
   "pygments_lexer": "ipython3",
   "version": "3.9.7"
  }
 },
 "nbformat": 4,
 "nbformat_minor": 5
}
